{
  "nbformat": 4,
  "nbformat_minor": 0,
  "metadata": {
    "colab": {
      "name": "GroupAssignment4.ipynb",
      "provenance": [],
      "collapsed_sections": []
    },
    "kernelspec": {
      "name": "python3",
      "display_name": "Python 3"
    }
  },
  "cells": [
    {
      "cell_type": "code",
      "metadata": {
        "id": "9i76z2NTx4iH",
        "colab_type": "code",
        "colab": {}
      },
      "source": [
        ""
      ],
      "execution_count": 0,
      "outputs": []
    },
    {
      "cell_type": "markdown",
      "metadata": {
        "id": "NpDP8pu9y4cV",
        "colab_type": "text"
      },
      "source": [
        ""
      ]
    },
    {
      "cell_type": "code",
      "metadata": {
        "id": "1mkfmPP_zuA-",
        "colab_type": "code",
        "colab": {}
      },
      "source": [
        "import sqlite3 # Once imported in a single notebook, it is available to us throughout the rest of the notebook. \n",
        "# connect to database, if not there, create it.\n",
        "connectionToDatabase = sqlite3.connect('Restaurant') \n",
        "cursor = connectionToDatabase.cursor()"
      ],
      "execution_count": 0,
      "outputs": []
    },
    {
      "cell_type": "code",
      "metadata": {
        "id": "LOiwUNJwOq1y",
        "colab_type": "code",
        "colab": {}
      },
      "source": [
        "cursor.execute('''drop table IF EXISTS Customer''')\n",
        "connectionToDatabase.commit()"
      ],
      "execution_count": 0,
      "outputs": []
    },
    {
      "cell_type": "code",
      "metadata": {
        "id": "z6yFDBK3z9Co",
        "colab_type": "code",
        "colab": {}
      },
      "source": [
        "cursor.execute('''create table Customer (customerId int PRIMARY KEY, First_Name string, last_name string, phone_number int, credit_card_no int, address string)''')\n",
        "connectionToDatabase.commit()"
      ],
      "execution_count": 0,
      "outputs": []
    },
    {
      "cell_type": "code",
      "metadata": {
        "id": "fGRH7XZ5OuYV",
        "colab_type": "code",
        "colab": {}
      },
      "source": [
        "cursor.execute('''drop table IF EXISTS Delivery''')\n",
        "connectionToDatabase.commit()"
      ],
      "execution_count": 0,
      "outputs": []
    },
    {
      "cell_type": "code",
      "metadata": {
        "id": "2Vm_waHsy4rH",
        "colab_type": "code",
        "colab": {}
      },
      "source": [
        "cursor.execute('''create table Delivery (bill_no int PRIMARY KEY, delivery_Charge int, updated_total_charge int)''')\n",
        "connectionToDatabase.commit()"
      ],
      "execution_count": 0,
      "outputs": []
    },
    {
      "cell_type": "code",
      "metadata": {
        "id": "ew_KuPizO2kO",
        "colab_type": "code",
        "colab": {}
      },
      "source": [
        "cursor.execute('''drop table IF EXISTS Orders''')\n",
        "connectionToDatabase.commit()"
      ],
      "execution_count": 0,
      "outputs": []
    },
    {
      "cell_type": "code",
      "metadata": {
        "id": "xcmLjPC2qg2d",
        "colab_type": "code",
        "colab": {}
      },
      "source": [
        "cursor.execute('''create table Orders (order_id int PRIMARY KEY, food_no int, drink_no int,total_calories int, price int, discount code string)''')\n",
        "connectionToDatabase.commit()"
      ],
      "execution_count": 0,
      "outputs": []
    },
    {
      "cell_type": "markdown",
      "metadata": {
        "id": "JR4m0Y0di5Ht",
        "colab_type": "text"
      },
      "source": [
        "there has to be a way that we can make it so we can have the drink and food primary keys transfer so we dont have to put it int more than once"
      ]
    },
    {
      "cell_type": "code",
      "metadata": {
        "id": "RwFLIjbxO4v_",
        "colab_type": "code",
        "colab": {}
      },
      "source": [
        "cursor.execute('''drop table IF EXISTS Transactions''')\n",
        "connectionToDatabase.commit()"
      ],
      "execution_count": 0,
      "outputs": []
    },
    {
      "cell_type": "code",
      "metadata": {
        "id": "1Dt1Lnl-pzFP",
        "colab_type": "code",
        "colab": {}
      },
      "source": [
        "cursor.execute('''create table Transactions (bill_no int PRIMARY KEY,customer_id int, total_cost int, tip_percentage real, tip_ammount real, payment_type string, discount_code string, order_id int)''')\n",
        "connectionToDatabase.commit()"
      ],
      "execution_count": 0,
      "outputs": []
    },
    {
      "cell_type": "code",
      "metadata": {
        "id": "raz8_narO70x",
        "colab_type": "code",
        "colab": {}
      },
      "source": [
        "cursor.execute('''drop table IF EXISTS Drinks''')\n",
        "connectionToDatabase.commit()"
      ],
      "execution_count": 0,
      "outputs": []
    },
    {
      "cell_type": "code",
      "metadata": {
        "id": "-VzAob3nrMll",
        "colab_type": "code",
        "colab": {}
      },
      "source": [
        "cursor.execute('''create table Drinks (drink_no int PRIMARY KEY, drink_title string, drink_type string, brand_name string, calories int, cost real)''')\n",
        "connectionToDatabase.commit()"
      ],
      "execution_count": 0,
      "outputs": []
    },
    {
      "cell_type": "code",
      "metadata": {
        "id": "kNs2H-akO-vg",
        "colab_type": "code",
        "colab": {}
      },
      "source": [
        "cursor.execute('''drop table IF EXISTS Food''')\n",
        "connectionToDatabase.commit()"
      ],
      "execution_count": 0,
      "outputs": []
    },
    {
      "cell_type": "code",
      "metadata": {
        "id": "20h_XQTArmd_",
        "colab_type": "code",
        "colab": {}
      },
      "source": [
        "cursor.execute('''create table Food (dish_no int PRIMARY KEY, meal_title string, main_ingrediant,calories int,cost real)''')\n",
        "connectionToDatabase.commit()"
      ],
      "execution_count": 0,
      "outputs": []
    },
    {
      "cell_type": "markdown",
      "metadata": {
        "id": "pO9asElSO38v",
        "colab_type": "text"
      },
      "source": [
        "Populating customer:"
      ]
    },
    {
      "cell_type": "code",
      "metadata": {
        "id": "fDJK8chsIb2Q",
        "colab_type": "code",
        "colab": {}
      },
      "source": [
        "cursor.execute('''insert into customer values ('01', 'Ryan','Costello','2134864992','1234123412341234', '123 streat st');''')\n",
        "connectionToDatabase.commit()"
      ],
      "execution_count": 0,
      "outputs": []
    },
    {
      "cell_type": "code",
      "metadata": {
        "id": "msByS0lcJvgh",
        "colab_type": "code",
        "colab": {}
      },
      "source": [
        "cursor.execute('''insert into customer values ('02','Garrett','Pumilia','6105476129','1234567891234567','143 easy st');''')\n",
        "connectionToDatabase.commit()"
      ],
      "execution_count": 0,
      "outputs": []
    },
    {
      "cell_type": "code",
      "metadata": {
        "id": "3b7u0iYEP7D9",
        "colab_type": "code",
        "colab": {}
      },
      "source": [
        "cursor.execute('''insert into customer values ('03','John','Doe','8146327834','8362947306238074','700 Broadstreet');''')\n",
        "connectionToDatabase.commit()"
      ],
      "execution_count": 0,
      "outputs": []
    },
    {
      "cell_type": "code",
      "metadata": {
        "id": "mijRh2TTP7Nl",
        "colab_type": "code",
        "colab": {}
      },
      "source": [
        "cursor.execute('''insert into customer values('04','Peter','Williams','2157349873','0337429870124756','717 Daniel Drive');''')\n",
        "connectionToDatabase.commit()"
      ],
      "execution_count": 0,
      "outputs": []
    },
    {
      "cell_type": "code",
      "metadata": {
        "id": "GrUwJxsuP7ZE",
        "colab_type": "code",
        "colab": {}
      },
      "source": [
        "cursor.execute('''insert into customer values('05','Michael','Smith','8740037465','9248572008224637','999 College Avenue');''')\n",
        "connectionToDatabase.commit()"
      ],
      "execution_count": 0,
      "outputs": []
    },
    {
      "cell_type": "markdown",
      "metadata": {
        "id": "yKNTPDp_P0l4",
        "colab_type": "text"
      },
      "source": [
        "Customer table:"
      ]
    },
    {
      "cell_type": "code",
      "metadata": {
        "id": "mxrnNkkKPR9z",
        "colab_type": "code",
        "outputId": "6cd33b8b-ca3a-487e-d64f-c6f10eeed4f6",
        "colab": {
          "base_uri": "https://localhost:8080/",
          "height": 102
        }
      },
      "source": [
        "cursor.execute('''select * from customer''')\n",
        "for row in cursor.fetchall():\n",
        "  print(row)"
      ],
      "execution_count": 19,
      "outputs": [
        {
          "output_type": "stream",
          "text": [
            "(1, 'Ryan', 'Costello', 2134864992, 1234123412341234, '123 streat st')\n",
            "(2, 'Garrett', 'Pumilia', 6105476129, 1234567891234567, '143 easy st')\n",
            "(3, 'John', 'Doe', 8146327834, 8362947306238074, '700 Broadstreet')\n",
            "(4, 'Peter', 'Williams', 2157349873, 337429870124756, '717 Daniel Drive')\n",
            "(5, 'Michael', 'Smith', 8740037465, 9248572008224637, '999 College Avenue')\n"
          ],
          "name": "stdout"
        }
      ]
    },
    {
      "cell_type": "code",
      "metadata": {
        "id": "9vNw9XS1nmyh",
        "colab_type": "code",
        "colab": {}
      },
      "source": [
        ""
      ],
      "execution_count": 0,
      "outputs": []
    },
    {
      "cell_type": "markdown",
      "metadata": {
        "id": "UBDUw6OjbRdS",
        "colab_type": "text"
      },
      "source": [
        "Populating Delivery:"
      ]
    },
    {
      "cell_type": "code",
      "metadata": {
        "id": "WkIpmhT7bIBD",
        "colab_type": "code",
        "colab": {}
      },
      "source": [
        "cursor.execute('''insert into Delivery values('0','4.00','24.50');''')\n",
        "connectionToDatabase.commit()"
      ],
      "execution_count": 0,
      "outputs": []
    },
    {
      "cell_type": "code",
      "metadata": {
        "id": "_iv7jIJ1bIFr",
        "colab_type": "code",
        "colab": {}
      },
      "source": [
        "cursor.execute('''insert into Delivery values('9','4.00','9.37');''')\n",
        "connectionToDatabase.commit()"
      ],
      "execution_count": 0,
      "outputs": []
    },
    {
      "cell_type": "code",
      "metadata": {
        "id": "rEdQoKkrbIKp",
        "colab_type": "code",
        "colab": {}
      },
      "source": [
        "cursor.execute('''insert into Delivery values('10','4.00','46.78');''')\n",
        "connectionToDatabase.commit()"
      ],
      "execution_count": 0,
      "outputs": []
    },
    {
      "cell_type": "code",
      "metadata": {
        "id": "kx3fcqivbION",
        "colab_type": "code",
        "colab": {}
      },
      "source": [
        "cursor.execute('''insert into Delivery values('34','4.00','31.99');''')\n",
        "connectionToDatabase.commit()"
      ],
      "execution_count": 0,
      "outputs": []
    },
    {
      "cell_type": "code",
      "metadata": {
        "id": "M2Bs9L_WbIRs",
        "colab_type": "code",
        "colab": {}
      },
      "source": [
        "cursor.execute('''insert into Delivery values('40','4.00','17.50');''')\n",
        "connectionToDatabase.commit()"
      ],
      "execution_count": 0,
      "outputs": []
    },
    {
      "cell_type": "markdown",
      "metadata": {
        "id": "F90h7YuBbQyB",
        "colab_type": "text"
      },
      "source": [
        "Delivery Table:"
      ]
    },
    {
      "cell_type": "code",
      "metadata": {
        "id": "q1pqtkGxbQ8t",
        "colab_type": "code",
        "outputId": "e914b279-161d-404e-9dd1-0e72441e3885",
        "colab": {
          "base_uri": "https://localhost:8080/",
          "height": 102
        }
      },
      "source": [
        "cursor.execute('''select * from Delivery''')\n",
        "for i in cursor.fetchall():\n",
        "  print(i)"
      ],
      "execution_count": 25,
      "outputs": [
        {
          "output_type": "stream",
          "text": [
            "(0, 4, 24.5)\n",
            "(9, 4, 9.37)\n",
            "(10, 4, 46.78)\n",
            "(34, 4, 31.99)\n",
            "(40, 4, 17.5)\n"
          ],
          "name": "stdout"
        }
      ]
    },
    {
      "cell_type": "markdown",
      "metadata": {
        "id": "bENaqL4OiWTq",
        "colab_type": "text"
      },
      "source": [
        "Populating Drinks:"
      ]
    },
    {
      "cell_type": "code",
      "metadata": {
        "id": "9XCmHUqXiV1v",
        "colab_type": "code",
        "colab": {}
      },
      "source": [
        "cursor.execute('''insert into Drinks values('01','Water','Bottle','Deer Park','0','2.00');''')\n",
        "connectionToDatabase.commit()"
      ],
      "execution_count": 0,
      "outputs": []
    },
    {
      "cell_type": "code",
      "metadata": {
        "id": "GwicwgUuXu0_",
        "colab_type": "code",
        "colab": {}
      },
      "source": [
        "cursor.execute('''insert into Drinks values('02','Coke','Fountain','Cocacola','150','2.39');''')\n",
        "connectionToDatabase.commit()"
      ],
      "execution_count": 0,
      "outputs": []
    },
    {
      "cell_type": "code",
      "metadata": {
        "id": "Idutm5y9YRnh",
        "colab_type": "code",
        "colab": {}
      },
      "source": [
        "cursor.execute('''insert into Drinks values('03','Orange Sada','Fountain','Fanta','160','2.39');''')\n",
        "connectionToDatabase.commit()"
      ],
      "execution_count": 0,
      "outputs": []
    },
    {
      "cell_type": "code",
      "metadata": {
        "id": "xF0CtpDsYpo_",
        "colab_type": "code",
        "colab": {}
      },
      "source": [
        "cursor.execute('''insert into Drinks values('04','Sprite','Fountain','Cocacola','192','2.39');''')\n",
        "connectionToDatabase.commit()"
      ],
      "execution_count": 0,
      "outputs": []
    },
    {
      "cell_type": "code",
      "metadata": {
        "id": "k4zVO1TWZeXB",
        "colab_type": "code",
        "colab": {}
      },
      "source": [
        "cursor.execute('''insert into Drinks values('05','Root Beer','Foutain','Cocacola','152','2.39');''')\n",
        "connectionToDatabase.commit()"
      ],
      "execution_count": 0,
      "outputs": []
    },
    {
      "cell_type": "markdown",
      "metadata": {
        "id": "bRkw1iYmmAaZ",
        "colab_type": "text"
      },
      "source": [
        "Populating Food Table"
      ]
    },
    {
      "cell_type": "code",
      "metadata": {
        "id": "Gx4oeRXJlXGw",
        "colab_type": "code",
        "colab": {}
      },
      "source": [
        "cursor.execute('''insert into Food values('01','Chicken Marsala','Poultry','750','15.99');''')\n",
        "connectionToDatabase.commit()\n",
        "cursor.execute('''insert into Food values('02','New York Strip','Meat','850','19.99');''')\n",
        "connectionToDatabase.commit()\n",
        "cursor.execute('''insert into Food values('03','Veggie Burger','Vegetarian','500','7.99');''')\n",
        "connectionToDatabase.commit()\n",
        "cursor.execute('''insert into Food values('04','Coconut Tilapia','Fish','750','18.99');''')\n",
        "connectionToDatabase.commit()\n",
        "cursor.execute('''insert into Food values('05','Pasta Marinara','Pasta','675','9.99');''')\n",
        "connectionToDatabase.commit()"
      ],
      "execution_count": 0,
      "outputs": []
    },
    {
      "cell_type": "markdown",
      "metadata": {
        "id": "NPRMISL1mFUV",
        "colab_type": "text"
      },
      "source": [
        "Populating Orders Table"
      ]
    },
    {
      "cell_type": "code",
      "metadata": {
        "id": "NJgqiJmAldaY",
        "colab_type": "code",
        "colab": {}
      },
      "source": [
        "#(order_id int PRIMARY KEY, food_no int, drink_no int,total_calories int, price int, discount code string)\n",
        "cursor.execute('''insert into Orders values('01','01','01','750','17.99','CHICKEN');''')\n",
        "connectionToDatabase.commit()\n",
        "cursor.execute('''insert into Orders values('02','02','02','1000','22.38','STEAK');''')\n",
        "connectionToDatabase.commit()\n",
        "cursor.execute('''insert into Orders values('03','03','03','660','10.38','VEGGIE');''')\n",
        "connectionToDatabase.commit()\n",
        "cursor.execute('''insert into Orders values('04','04','04','942','21.38','FISH');''')\n",
        "connectionToDatabase.commit()\n",
        "cursor.execute('''insert into Orders values('05','05','05','827','12.38','PASTA');''')\n",
        "connectionToDatabase.commit()\n"
      ],
      "execution_count": 0,
      "outputs": []
    },
    {
      "cell_type": "markdown",
      "metadata": {
        "id": "P2niFGEnaYSZ",
        "colab_type": "text"
      },
      "source": [
        "Drinks Table:"
      ]
    },
    {
      "cell_type": "code",
      "metadata": {
        "id": "ApRB5f-zWpdd",
        "colab_type": "code",
        "outputId": "fb6fabbc-3fff-4b4a-8d82-25c2638cf9b7",
        "colab": {
          "base_uri": "https://localhost:8080/",
          "height": 102
        }
      },
      "source": [
        "cursor.execute('''select * from Drinks''')\n",
        "for row in cursor.fetchall():\n",
        "  print(row)"
      ],
      "execution_count": 33,
      "outputs": [
        {
          "output_type": "stream",
          "text": [
            "(1, 'Water', 'Bottle', 'Deer Park', 0, 2.0)\n",
            "(2, 'Coke', 'Fountain', 'Cocacola', 150, 2.39)\n",
            "(3, 'Orange Sada', 'Fountain', 'Fanta', 160, 2.39)\n",
            "(4, 'Sprite', 'Fountain', 'Cocacola', 192, 2.39)\n",
            "(5, 'Root Beer', 'Foutain', 'Cocacola', 152, 2.39)\n"
          ],
          "name": "stdout"
        }
      ]
    },
    {
      "cell_type": "markdown",
      "metadata": {
        "id": "eDQpT2TvC0IO",
        "colab_type": "text"
      },
      "source": [
        "Populating transactions"
      ]
    },
    {
      "cell_type": "code",
      "metadata": {
        "id": "Ko3b_o2QCu8L",
        "colab_type": "code",
        "colab": {}
      },
      "source": [
        "cursor.execute('''insert into Transactions values('01' ,'01' , '15' , '0.15' , '2.25' , 'credit card','null','1');''')\n",
        "connectionToDatabase.commit()\n",
        "cursor.execute('''insert into Transactions values('02','02','10','0.15','1.15','credit card','null','2');''')\n",
        "connectionToDatabase.commit()\n",
        "cursor.execute('''insert into Transactions values('03','03','25','0.10','2.5','debit card','15% off','3');''')\n",
        "connectionToDatabase.commit()\n",
        "cursor.execute('''insert into Transactions values('04','04','50','0.20','10','gift card','free small fries','4');''')\n",
        "connectionToDatabase.commit()\n",
        "cursor.execute('''insert into Transactions values('05','05','100','0.08','8','credit card','null','5');''')\n",
        "connectionToDatabase.commit()"
      ],
      "execution_count": 0,
      "outputs": []
    },
    {
      "cell_type": "code",
      "metadata": {
        "id": "FIIxkKLFnaPc",
        "colab_type": "code",
        "colab": {
          "base_uri": "https://localhost:8080/",
          "height": 102
        },
        "outputId": "62bea3d0-7952-4eb8-afc4-f5e3e6ce00d0"
      },
      "source": [
        "cursor.execute('''select * from Transactions''')\n",
        "for row in cursor.fetchall():\n",
        "  print(row)"
      ],
      "execution_count": 35,
      "outputs": [
        {
          "output_type": "stream",
          "text": [
            "(1, 1, 15, 0.15, 2.25, 'credit card', 'null', 1)\n",
            "(2, 2, 10, 0.15, 1.15, 'credit card', 'null', 2)\n",
            "(3, 3, 25, 0.1, 2.5, 'debit card', '15% off', 3)\n",
            "(4, 4, 50, 0.2, 10.0, 'gift card', 'free small fries', 4)\n",
            "(5, 5, 100, 0.08, 8.0, 'credit card', 'null', 5)\n"
          ],
          "name": "stdout"
        }
      ]
    },
    {
      "cell_type": "markdown",
      "metadata": {
        "id": "IB3daDqU1zlv",
        "colab_type": "text"
      },
      "source": [
        "![our updated chart](https://raw.githubusercontent.com/Rcostello1012/Ist210-project-4/master/Group%20assignment%204%20chart.png)"
      ]
    },
    {
      "cell_type": "markdown",
      "metadata": {
        "id": "TOIJMgh73xap",
        "colab_type": "text"
      },
      "source": [
        " 3 questions\n",
        " "
      ]
    },
    {
      "cell_type": "markdown",
      "metadata": {
        "id": "zQsOPea2GyOU",
        "colab_type": "text"
      },
      "source": [
        ""
      ]
    },
    {
      "cell_type": "markdown",
      "metadata": {
        "id": "luLfbIao7mtY",
        "colab_type": "text"
      },
      "source": [
        "Question 1"
      ]
    },
    {
      "cell_type": "markdown",
      "metadata": {
        "id": "HJeD-KG331yL",
        "colab_type": "text"
      },
      "source": [
        "What was the average cost of a meal from the transactions table"
      ]
    },
    {
      "cell_type": "markdown",
      "metadata": {
        "id": "n9CU_QUx7pFP",
        "colab_type": "text"
      },
      "source": [
        "Code"
      ]
    },
    {
      "cell_type": "markdown",
      "metadata": {
        "id": "dhfkmSVk7rNa",
        "colab_type": "text"
      },
      "source": [
        "the code\n",
        "\n",
        "cursor.execute(''' Select Avg(total_cost)  from Transactions''')\n",
        "for row in cursor.fetchall():\n",
        "  print (row)\n"
      ]
    },
    {
      "cell_type": "code",
      "metadata": {
        "id": "SyQHsl6E47gS",
        "colab_type": "code",
        "colab": {
          "base_uri": "https://localhost:8080/",
          "height": 34
        },
        "outputId": "8cf80c34-2d73-4060-8436-1e1038c80202"
      },
      "source": [
        "cursor.execute(''' Select Avg(total_cost)  from Transactions''')\n",
        "for row in cursor.fetchall():\n",
        "  print (row)\n"
      ],
      "execution_count": 36,
      "outputs": [
        {
          "output_type": "stream",
          "text": [
            "(40.0,)\n"
          ],
          "name": "stdout"
        }
      ]
    },
    {
      "cell_type": "markdown",
      "metadata": {
        "id": "_pbWNLIn78Bw",
        "colab_type": "text"
      },
      "source": [
        "Question 2\n",
        "\n",
        "What distinct kinds of food does our restaunt have"
      ]
    },
    {
      "cell_type": "markdown",
      "metadata": {
        "id": "hLUiFBof9tYD",
        "colab_type": "text"
      },
      "source": [
        "The code\n",
        "\n",
        "cursor.execute(''' Select  distinct meal_title  from Food''')\n",
        "for row in cursor.fetchall():\n",
        "  print (row)"
      ]
    },
    {
      "cell_type": "code",
      "metadata": {
        "id": "5XO-JOiW8caf",
        "colab_type": "code",
        "colab": {
          "base_uri": "https://localhost:8080/",
          "height": 102
        },
        "outputId": "bbfef800-0012-4a83-bbd7-b8e078d174cc"
      },
      "source": [
        "cursor.execute(''' Select  distinct meal_title  from Food''')\n",
        "for row in cursor.fetchall():\n",
        "  print (row)"
      ],
      "execution_count": 37,
      "outputs": [
        {
          "output_type": "stream",
          "text": [
            "('Chicken Marsala',)\n",
            "('New York Strip',)\n",
            "('Veggie Burger',)\n",
            "('Coconut Tilapia',)\n",
            "('Pasta Marinara',)\n"
          ],
          "name": "stdout"
        }
      ]
    },
    {
      "cell_type": "markdown",
      "metadata": {
        "id": "KQTAQ9g890XH",
        "colab_type": "text"
      },
      "source": [
        "Question 3\n",
        "\n",
        "What are all of our customers addresses?\n"
      ]
    },
    {
      "cell_type": "markdown",
      "metadata": {
        "id": "K2zPvO_U_0gT",
        "colab_type": "text"
      },
      "source": [
        "The code\n",
        "\n",
        "cursor.execute(''' Select  First_Name, last_name, address  from Customer''')\n",
        "for row in cursor.fetchall():\n",
        "  print (row)"
      ]
    },
    {
      "cell_type": "code",
      "metadata": {
        "id": "WIBxB0Nv_XRr",
        "colab_type": "code",
        "colab": {
          "base_uri": "https://localhost:8080/",
          "height": 102
        },
        "outputId": "0942a15d-c6a4-4306-b472-539850258902"
      },
      "source": [
        "cursor.execute(''' Select  First_Name, last_name, address  from Customer''')\n",
        "for row in cursor.fetchall():\n",
        "  print (row)"
      ],
      "execution_count": 38,
      "outputs": [
        {
          "output_type": "stream",
          "text": [
            "('Ryan', 'Costello', '123 streat st')\n",
            "('Garrett', 'Pumilia', '143 easy st')\n",
            "('John', 'Doe', '700 Broadstreet')\n",
            "('Peter', 'Williams', '717 Daniel Drive')\n",
            "('Michael', 'Smith', '999 College Avenue')\n"
          ],
          "name": "stdout"
        }
      ]
    },
    {
      "cell_type": "markdown",
      "metadata": {
        "id": "qalj7YwRArRE",
        "colab_type": "text"
      },
      "source": [
        "The Explanations\n",
        "\n",
        "For the first question \"what was the average cost of a meal from transactions\" is important to know so that you can guestimate how much revenue a certain day made if you only know how many people came in and not what they ordered. I was expecting it to be around 40 dollars because when i was putting in the data there was some outliers that were wholesale orders/catering orders which brought up the average substancially. The second question \"what distinct kinds of food does our restaunt have\" is important for if we are going to explain our restaurant to another company, perhaps a buyer. With this data you can better sell your restaurant and tell whoever is asking what it is your restaurant sells. For the final question \"what is the customers address\" can be used to map where all of your customers are coming from to know where you are successfull, what areas you do not need to do much advertising in, and where the demand for your product is.\n",
        "\n"
      ]
    }
  ]
}